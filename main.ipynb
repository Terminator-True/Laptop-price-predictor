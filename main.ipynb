{
 "cells": [
  {
   "cell_type": "markdown",
   "metadata": {},
   "source": [
    "<h1>Laptop Price Predictor</h1>"
   ]
  },
  {
   "cell_type": "code",
   "execution_count": 2,
   "metadata": {},
   "outputs": [],
   "source": [
    "import numpy as np\n",
    "import pandas as pd\n",
    "import matplotlib.pyplot as plt"
   ]
  },
  {
   "cell_type": "code",
   "execution_count": 3,
   "metadata": {},
   "outputs": [
    {
     "data": {
      "text/html": [
       "<div>\n",
       "<style scoped>\n",
       "    .dataframe tbody tr th:only-of-type {\n",
       "        vertical-align: middle;\n",
       "    }\n",
       "\n",
       "    .dataframe tbody tr th {\n",
       "        vertical-align: top;\n",
       "    }\n",
       "\n",
       "    .dataframe thead th {\n",
       "        text-align: right;\n",
       "    }\n",
       "</style>\n",
       "<table border=\"1\" class=\"dataframe\">\n",
       "  <thead>\n",
       "    <tr style=\"text-align: right;\">\n",
       "      <th></th>\n",
       "      <th>Company</th>\n",
       "      <th>Inches</th>\n",
       "      <th>Cpu</th>\n",
       "      <th>Ram</th>\n",
       "      <th>Gpu</th>\n",
       "      <th>OpSys</th>\n",
       "      <th>SSD</th>\n",
       "      <th>Price</th>\n",
       "    </tr>\n",
       "  </thead>\n",
       "  <tbody>\n",
       "    <tr>\n",
       "      <th>0</th>\n",
       "      <td>Lenovo</td>\n",
       "      <td>15.6</td>\n",
       "      <td>intel core i5-12450h</td>\n",
       "      <td>16gb</td>\n",
       "      <td>integrated graphics</td>\n",
       "      <td>No Os/ Linux</td>\n",
       "      <td>512gb ssd</td>\n",
       "      <td>499.00</td>\n",
       "    </tr>\n",
       "    <tr>\n",
       "      <th>1</th>\n",
       "      <td>Alurin</td>\n",
       "      <td>14.0</td>\n",
       "      <td>intel celeron n4020</td>\n",
       "      <td>8gb</td>\n",
       "      <td>integrated graphics</td>\n",
       "      <td>No Os/ Linux</td>\n",
       "      <td>256gb ssd</td>\n",
       "      <td>229.90</td>\n",
       "    </tr>\n",
       "    <tr>\n",
       "      <th>2</th>\n",
       "      <td>Acer</td>\n",
       "      <td>15.6</td>\n",
       "      <td>intel core i5-13420h</td>\n",
       "      <td>16gb</td>\n",
       "      <td>rtx 3050</td>\n",
       "      <td>No Os/ Linux</td>\n",
       "      <td>1tb ssd</td>\n",
       "      <td>769.00</td>\n",
       "    </tr>\n",
       "    <tr>\n",
       "      <th>3</th>\n",
       "      <td>HP</td>\n",
       "      <td>15.6</td>\n",
       "      <td>intel core i5-1335u</td>\n",
       "      <td>16gb</td>\n",
       "      <td>integrated graphics</td>\n",
       "      <td>No Os/ Linux</td>\n",
       "      <td>512gb ssd</td>\n",
       "      <td>599.00</td>\n",
       "    </tr>\n",
       "    <tr>\n",
       "      <th>4</th>\n",
       "      <td>MSI</td>\n",
       "      <td>17.3</td>\n",
       "      <td>intel core i7-13700h</td>\n",
       "      <td>16gb</td>\n",
       "      <td>rtx 4070</td>\n",
       "      <td>No Os/ Linux</td>\n",
       "      <td>1tb ssd</td>\n",
       "      <td>1399.00</td>\n",
       "    </tr>\n",
       "    <tr>\n",
       "      <th>...</th>\n",
       "      <td>...</td>\n",
       "      <td>...</td>\n",
       "      <td>...</td>\n",
       "      <td>...</td>\n",
       "      <td>...</td>\n",
       "      <td>...</td>\n",
       "      <td>...</td>\n",
       "      <td>...</td>\n",
       "    </tr>\n",
       "    <tr>\n",
       "      <th>2704</th>\n",
       "      <td>Vant</td>\n",
       "      <td>14.0</td>\n",
       "      <td>intel core i7-1255u</td>\n",
       "      <td>40 gb</td>\n",
       "      <td>integrated graphics</td>\n",
       "      <td>No Os/ Linux</td>\n",
       "      <td>1tb ssd</td>\n",
       "      <td>1217.00</td>\n",
       "    </tr>\n",
       "    <tr>\n",
       "      <th>2705</th>\n",
       "      <td>Vant</td>\n",
       "      <td>14.0</td>\n",
       "      <td>intel core i5-10210u</td>\n",
       "      <td>16gb</td>\n",
       "      <td>integrated graphics</td>\n",
       "      <td>No Os/ Linux</td>\n",
       "      <td>500gb ssd</td>\n",
       "      <td>994.00</td>\n",
       "    </tr>\n",
       "    <tr>\n",
       "      <th>2706</th>\n",
       "      <td>Vant</td>\n",
       "      <td>14.0</td>\n",
       "      <td>intel core i7-10510u</td>\n",
       "      <td>16gb</td>\n",
       "      <td>integrated graphics</td>\n",
       "      <td>No Os/ Linux</td>\n",
       "      <td>500gb ssd</td>\n",
       "      <td>1123.00</td>\n",
       "    </tr>\n",
       "    <tr>\n",
       "      <th>2707</th>\n",
       "      <td>Vant</td>\n",
       "      <td>14.0</td>\n",
       "      <td>intel core i7-10510u</td>\n",
       "      <td>16gb</td>\n",
       "      <td>integrated graphics</td>\n",
       "      <td>No Os/ Linux</td>\n",
       "      <td>500gb ssd</td>\n",
       "      <td>1123.00</td>\n",
       "    </tr>\n",
       "    <tr>\n",
       "      <th>2708</th>\n",
       "      <td>Vanwin</td>\n",
       "      <td>15.6</td>\n",
       "      <td>intel celeron n5095</td>\n",
       "      <td>16gb</td>\n",
       "      <td>integrated graphics</td>\n",
       "      <td>No Os/ Linux</td>\n",
       "      <td>512 gb ssd</td>\n",
       "      <td>339.98</td>\n",
       "    </tr>\n",
       "  </tbody>\n",
       "</table>\n",
       "<p>2709 rows × 8 columns</p>\n",
       "</div>"
      ],
      "text/plain": [
       "     Company  Inches                   Cpu    Ram                  Gpu  \\\n",
       "0     Lenovo    15.6  intel core i5-12450h   16gb  integrated graphics   \n",
       "1     Alurin    14.0   intel celeron n4020    8gb  integrated graphics   \n",
       "2       Acer    15.6  intel core i5-13420h   16gb             rtx 3050   \n",
       "3         HP    15.6   intel core i5-1335u   16gb  integrated graphics   \n",
       "4        MSI    17.3  intel core i7-13700h   16gb             rtx 4070   \n",
       "...      ...     ...                   ...    ...                  ...   \n",
       "2704    Vant    14.0   intel core i7-1255u  40 gb  integrated graphics   \n",
       "2705    Vant    14.0  intel core i5-10210u   16gb  integrated graphics   \n",
       "2706    Vant    14.0  intel core i7-10510u   16gb  integrated graphics   \n",
       "2707    Vant    14.0  intel core i7-10510u   16gb  integrated graphics   \n",
       "2708  Vanwin    15.6   intel celeron n5095   16gb  integrated graphics   \n",
       "\n",
       "             OpSys         SSD    Price  \n",
       "0     No Os/ Linux   512gb ssd   499.00  \n",
       "1     No Os/ Linux   256gb ssd   229.90  \n",
       "2     No Os/ Linux     1tb ssd   769.00  \n",
       "3     No Os/ Linux   512gb ssd   599.00  \n",
       "4     No Os/ Linux     1tb ssd  1399.00  \n",
       "...            ...         ...      ...  \n",
       "2704  No Os/ Linux     1tb ssd  1217.00  \n",
       "2705  No Os/ Linux   500gb ssd   994.00  \n",
       "2706  No Os/ Linux   500gb ssd  1123.00  \n",
       "2707  No Os/ Linux   500gb ssd  1123.00  \n",
       "2708  No Os/ Linux  512 gb ssd   339.98  \n",
       "\n",
       "[2709 rows x 8 columns]"
      ]
     },
     "execution_count": 3,
     "metadata": {},
     "output_type": "execute_result"
    }
   ],
   "source": [
    "data = pd.read_csv('csv\\\\laptop_data_actual.csv')\n",
    "data"
   ]
  },
  {
   "cell_type": "code",
   "execution_count": 34,
   "metadata": {},
   "outputs": [
    {
     "name": "stdout",
     "output_type": "stream",
     "text": [
      "<class 'pandas.core.frame.DataFrame'>\n",
      "RangeIndex: 2709 entries, 0 to 2708\n",
      "Data columns (total 8 columns):\n",
      " #   Column   Non-Null Count  Dtype  \n",
      "---  ------   --------------  -----  \n",
      " 0   Company  2709 non-null   object \n",
      " 1   Inches   2705 non-null   float64\n",
      " 2   Cpu      2705 non-null   object \n",
      " 3   Ram      2709 non-null   object \n",
      " 4   Gpu      2709 non-null   object \n",
      " 5   OpSys    2709 non-null   object \n",
      " 6   SSD      2709 non-null   object \n",
      " 7   Price    2709 non-null   float64\n",
      "dtypes: float64(2), object(6)\n",
      "memory usage: 169.4+ KB\n"
     ]
    }
   ],
   "source": [
    "data.info()"
   ]
  },
  {
   "cell_type": "code",
   "execution_count": 35,
   "metadata": {},
   "outputs": [
    {
     "data": {
      "text/plain": [
       "Company    0\n",
       "Inches     0\n",
       "Cpu        0\n",
       "Ram        0\n",
       "Gpu        0\n",
       "OpSys      0\n",
       "SSD        0\n",
       "Price      0\n",
       "dtype: int64"
      ]
     },
     "execution_count": 35,
     "metadata": {},
     "output_type": "execute_result"
    }
   ],
   "source": [
    "data = data.drop(data[data['Inches'].isnull()].index)\n",
    "data = data.drop(data[data['Cpu'].isnull()].index)\n",
    "\n",
    "data.isnull().sum()"
   ]
  },
  {
   "cell_type": "code",
   "execution_count": 36,
   "metadata": {},
   "outputs": [
    {
     "data": {
      "text/plain": [
       "Cpu\n",
       "intel core i7-13700h    182\n",
       "intel core i5-1335u     144\n",
       "intel core i5-1235u     138\n",
       "intel core i7-1360p      99\n",
       "intel core i7-1255u      95\n",
       "                       ... \n",
       "max 14 n cleos            1\n",
       "m2 pro 10 n cleos         1\n",
       "amd ryzen 9 5900hs        1\n",
       "intel core i9-11900h      1\n",
       "intel core i7-6500u       1\n",
       "Name: count, Length: 207, dtype: int64"
      ]
     },
     "execution_count": 36,
     "metadata": {},
     "output_type": "execute_result"
    },
    {
     "data": {
      "image/png": "[encoded data removed]",
      "text/plain": [
       "<Figure size 640x480 with 1 Axes>"
      ]
     },
     "metadata": {},
     "output_type": "display_data"
    }
   ],
   "source": [
    "import seaborn as sns\n",
    "\n",
    "sns.histplot(data=data,x='Cpu')\n",
    "data['Cpu'].value_counts()"
   ]
  },
  {
   "cell_type": "code",
   "execution_count": 37,
   "metadata": {},
   "outputs": [
    {
     "data": {
      "text/plain": [
       "Cpu\n",
       "intel core i7                896\n",
       "intel core i5                831\n",
       "low gamma intel processor    298\n",
       "intel core i9                173\n",
       "amd ryzen 5                  158\n",
       "amd ryzen 7                  147\n",
       "Mac Processor                 99\n",
       "low gamma amd processor       57\n",
       "amd ryzen 9                   42\n",
       "Name: count, dtype: int64"
      ]
     },
     "execution_count": 37,
     "metadata": {},
     "output_type": "execute_result"
    },
    {
     "data": {
      "image/png": "[encoded data removed]",
      "text/plain": [
       "<Figure size 640x480 with 1 Axes>"
      ]
     },
     "metadata": {},
     "output_type": "display_data"
    }
   ],
   "source": [
    "def cpu_type_define(text):\n",
    "    text = text.split(' ')\n",
    "    if text[0] == 'intel':\n",
    "        if 'i' in text[-1]:\n",
    "            if text[-1].split('-')[0] == 'i3':\n",
    "                return 'low gamma intel processor'\n",
    "                \n",
    "            return text[0]+' '+text[1]+' '+text[-1].split('-')[0] \n",
    "\n",
    "        return 'low gamma intel processor'\n",
    "    elif text[0] == 'amd':\n",
    "        if text[1] == 'ryzen':\n",
    "            if text[2] == '3':\n",
    "                return 'low gamma amd processor'\n",
    "            \n",
    "            return text[0]+' '+text[1]+' '+text[2]\n",
    "                    \n",
    "        return 'low gamma amd processor'\n",
    "    elif 'm' in text[0]:\n",
    "        return 'Mac Processor'\n",
    "    else:\n",
    "        return 'Other Processor'\n",
    "\n",
    "data['Cpu'] = data['Cpu'].apply(cpu_type_define)\n",
    "sns.histplot(data=data,x='Cpu')\n",
    "data['Cpu'].value_counts()"
   ]
  },
  {
   "cell_type": "code",
   "execution_count": 38,
   "metadata": {},
   "outputs": [
    {
     "data": {
      "text/plain": [
       "Gpu\n",
       "integrated graphics          1735\n",
       "Nivida medium gamma           414\n",
       "Nvidia low gamma              308\n",
       "Nvidia High gamma             119\n",
       "Other nvidia grafic card       55\n",
       "Apple integrated graphics      49\n",
       "Amd low Gamma                  17\n",
       "Amd High gamma                  4\n",
       "Name: count, dtype: int64"
      ]
     },
     "execution_count": 38,
     "metadata": {},
     "output_type": "execute_result"
    },
    {
     "data": {
      "image/png": "[encoded data removed]",
      "text/plain": [
       "<Figure size 640x480 with 1 Axes>"
      ]
     },
     "metadata": {},
     "output_type": "display_data"
    }
   ],
   "source": [
    "def gpu_type_define(text):    \n",
    "    \n",
    "    if 'rtx' in text:\n",
    "        \n",
    "        num = int(''.join([char for char in text if char.isdigit()]))\n",
    "        \n",
    "        if num == 4080 or num == 4090 or num == 3080:\n",
    "            return 'Nvidia High gamma'\n",
    "        elif num == 4070 or num == 3070 or num == 4060 or num == 2080:\n",
    "            return 'Nivida medium gamma'\n",
    "        elif num == 3050 or num == 3060 or num == 4050 or num == 2070:\n",
    "            return 'Nvidia low gamma'\n",
    "        else:\n",
    "            return 'Other nvidia grafic card'\n",
    "        \n",
    "    elif 'radeon' in text:\n",
    "        \n",
    "        if 'rx' in text:\n",
    "            return 'Amd High gamma'\n",
    "        else:\n",
    "            return 'Amd low Gamma'\n",
    "        \n",
    "    elif 'gpu' in text:\n",
    "        return 'Apple integrated graphics'\n",
    "    \n",
    "    return text\n",
    "       \n",
    "    \n",
    "\n",
    "data['Gpu'] = data['Gpu'].apply(gpu_type_define)\n",
    "sns.histplot(data=data,x='Gpu')\n",
    "data['Gpu'].value_counts()"
   ]
  },
  {
   "cell_type": "code",
   "execution_count": 39,
   "metadata": {},
   "outputs": [
    {
     "data": {
      "text/plain": [
       "SSD\n",
       "512      1176\n",
       "1000      788\n",
       "256       495\n",
       "2000       68\n",
       "500        62\n",
       "128        52\n",
       "64         37\n",
       "32         13\n",
       "4000        4\n",
       "320         2\n",
       "544         1\n",
       "14          1\n",
       "3000        1\n",
       "50040       1\n",
       "Name: count, dtype: int64"
      ]
     },
     "execution_count": 39,
     "metadata": {},
     "output_type": "execute_result"
    }
   ],
   "source": [
    "def fitler_ssd(text):\n",
    "    two_discs = text.split('+')\n",
    "    \n",
    "    \n",
    "    if len(two_discs) == 2:\n",
    "        return int(''.join([char for char in two_discs[0] if char.isdigit()])) + int(''.join([char for char in two_discs[1] if char.isdigit()]))        \n",
    "    else:\n",
    "        return int(''.join([char for char in text if char.isdigit()]))\n",
    "\n",
    "data['SSD'] = data['SSD'].str.replace('tb','000')\n",
    "data['SSD'] = data['SSD'].str.replace('gb','')\n",
    "data['SSD'] = data['SSD'].str.replace('emmc','')\n",
    "data['SSD'] = data['SSD'].str.replace('ssd','')\n",
    "data['SSD'] = data['SSD'].apply(fitler_ssd)\n",
    "data['SSD'].value_counts()"
   ]
  },
  {
   "cell_type": "code",
   "execution_count": 40,
   "metadata": {},
   "outputs": [
    {
     "name": "stdout",
     "output_type": "stream",
     "text": [
      "<class 'pandas.core.frame.DataFrame'>\n",
      "Index: 2701 entries, 0 to 2708\n",
      "Data columns (total 8 columns):\n",
      " #   Column   Non-Null Count  Dtype  \n",
      "---  ------   --------------  -----  \n",
      " 0   Company  2701 non-null   object \n",
      " 1   Inches   2701 non-null   float64\n",
      " 2   Cpu      2701 non-null   object \n",
      " 3   Ram      2698 non-null   float64\n",
      " 4   Gpu      2701 non-null   object \n",
      " 5   OpSys    2701 non-null   object \n",
      " 6   SSD      2701 non-null   int64  \n",
      " 7   Price    2701 non-null   float64\n",
      "dtypes: float64(3), int64(1), object(4)\n",
      "memory usage: 189.9+ KB\n"
     ]
    }
   ],
   "source": [
    "def filter_ram(text):\n",
    "    try:\n",
    "        return int(text)\n",
    "    except:\n",
    "        return None\n",
    "    \n",
    "data['Ram'] = data['Ram'].str.replace('gb','')\n",
    "data['Inches'] = data['Inches'].astype('float')\n",
    "data['Ram'] = data['Ram'].apply(filter_ram)\n",
    "data.info()"
   ]
  },
  {
   "cell_type": "code",
   "execution_count": 41,
   "metadata": {},
   "outputs": [
    {
     "data": {
      "text/plain": [
       "OpSys\n",
       "No Os/ Linux    2514\n",
       "MacOs            130\n",
       "Windows           54\n",
       "Name: count, dtype: int64"
      ]
     },
     "execution_count": 41,
     "metadata": {},
     "output_type": "execute_result"
    }
   ],
   "source": [
    "data = data.drop(data[data['Ram'].isnull()].index)\n",
    "data['Ram'] = data['Ram'].astype('int')\n",
    "data['Price'] = data['Price'].astype('int')\n",
    "data['OpSys'].value_counts()\n"
   ]
  },
  {
   "cell_type": "code",
   "execution_count": 79,
   "metadata": {},
   "outputs": [
    {
     "data": {
      "text/html": [
       "<div>\n",
       "<style scoped>\n",
       "    .dataframe tbody tr th:only-of-type {\n",
       "        vertical-align: middle;\n",
       "    }\n",
       "\n",
       "    .dataframe tbody tr th {\n",
       "        vertical-align: top;\n",
       "    }\n",
       "\n",
       "    .dataframe thead th {\n",
       "        text-align: right;\n",
       "    }\n",
       "</style>\n",
       "<table border=\"1\" class=\"dataframe\">\n",
       "  <thead>\n",
       "    <tr style=\"text-align: right;\">\n",
       "      <th></th>\n",
       "      <th>Company</th>\n",
       "      <th>Inches</th>\n",
       "      <th>Cpu</th>\n",
       "      <th>Ram</th>\n",
       "      <th>Gpu</th>\n",
       "      <th>OpSys</th>\n",
       "      <th>SSD</th>\n",
       "    </tr>\n",
       "  </thead>\n",
       "  <tbody>\n",
       "    <tr>\n",
       "      <th>558</th>\n",
       "      <td>Lenovo</td>\n",
       "      <td>15.6</td>\n",
       "      <td>amd ryzen 7</td>\n",
       "      <td>16</td>\n",
       "      <td>integrated graphics</td>\n",
       "      <td>No Os/ Linux</td>\n",
       "      <td>512</td>\n",
       "    </tr>\n",
       "    <tr>\n",
       "      <th>892</th>\n",
       "      <td>Acer</td>\n",
       "      <td>15.6</td>\n",
       "      <td>intel core i5</td>\n",
       "      <td>16</td>\n",
       "      <td>Nvidia low gamma</td>\n",
       "      <td>No Os/ Linux</td>\n",
       "      <td>1000</td>\n",
       "    </tr>\n",
       "    <tr>\n",
       "      <th>600</th>\n",
       "      <td>Acer</td>\n",
       "      <td>15.6</td>\n",
       "      <td>intel core i5</td>\n",
       "      <td>16</td>\n",
       "      <td>Nvidia low gamma</td>\n",
       "      <td>No Os/ Linux</td>\n",
       "      <td>1000</td>\n",
       "    </tr>\n",
       "    <tr>\n",
       "      <th>2231</th>\n",
       "      <td>Lenovo</td>\n",
       "      <td>16.0</td>\n",
       "      <td>intel core i7</td>\n",
       "      <td>16</td>\n",
       "      <td>Nvidia low gamma</td>\n",
       "      <td>No Os/ Linux</td>\n",
       "      <td>1000</td>\n",
       "    </tr>\n",
       "    <tr>\n",
       "      <th>2012</th>\n",
       "      <td>Gigabyte</td>\n",
       "      <td>15.6</td>\n",
       "      <td>amd ryzen 9</td>\n",
       "      <td>16</td>\n",
       "      <td>Nivida medium gamma</td>\n",
       "      <td>No Os/ Linux</td>\n",
       "      <td>512</td>\n",
       "    </tr>\n",
       "    <tr>\n",
       "      <th>...</th>\n",
       "      <td>...</td>\n",
       "      <td>...</td>\n",
       "      <td>...</td>\n",
       "      <td>...</td>\n",
       "      <td>...</td>\n",
       "      <td>...</td>\n",
       "      <td>...</td>\n",
       "    </tr>\n",
       "    <tr>\n",
       "      <th>1644</th>\n",
       "      <td>MSI</td>\n",
       "      <td>17.3</td>\n",
       "      <td>intel core i9</td>\n",
       "      <td>64</td>\n",
       "      <td>Nvidia High gamma</td>\n",
       "      <td>No Os/ Linux</td>\n",
       "      <td>2000</td>\n",
       "    </tr>\n",
       "    <tr>\n",
       "      <th>1101</th>\n",
       "      <td>HP</td>\n",
       "      <td>15.6</td>\n",
       "      <td>intel core i7</td>\n",
       "      <td>16</td>\n",
       "      <td>integrated graphics</td>\n",
       "      <td>No Os/ Linux</td>\n",
       "      <td>512</td>\n",
       "    </tr>\n",
       "    <tr>\n",
       "      <th>1136</th>\n",
       "      <td>MSI</td>\n",
       "      <td>17.3</td>\n",
       "      <td>intel core i7</td>\n",
       "      <td>32</td>\n",
       "      <td>Nivida medium gamma</td>\n",
       "      <td>No Os/ Linux</td>\n",
       "      <td>1000</td>\n",
       "    </tr>\n",
       "    <tr>\n",
       "      <th>1300</th>\n",
       "      <td>Acer</td>\n",
       "      <td>16.0</td>\n",
       "      <td>intel core i7</td>\n",
       "      <td>16</td>\n",
       "      <td>integrated graphics</td>\n",
       "      <td>No Os/ Linux</td>\n",
       "      <td>256</td>\n",
       "    </tr>\n",
       "    <tr>\n",
       "      <th>862</th>\n",
       "      <td>HP</td>\n",
       "      <td>13.3</td>\n",
       "      <td>intel core i5</td>\n",
       "      <td>16</td>\n",
       "      <td>integrated graphics</td>\n",
       "      <td>No Os/ Linux</td>\n",
       "      <td>256</td>\n",
       "    </tr>\n",
       "  </tbody>\n",
       "</table>\n",
       "<p>2293 rows × 7 columns</p>\n",
       "</div>"
      ],
      "text/plain": [
       "       Company  Inches            Cpu  Ram                  Gpu         OpSys  \\\n",
       "558     Lenovo    15.6    amd ryzen 7   16  integrated graphics  No Os/ Linux   \n",
       "892       Acer    15.6  intel core i5   16     Nvidia low gamma  No Os/ Linux   \n",
       "600       Acer    15.6  intel core i5   16     Nvidia low gamma  No Os/ Linux   \n",
       "2231    Lenovo    16.0  intel core i7   16     Nvidia low gamma  No Os/ Linux   \n",
       "2012  Gigabyte    15.6    amd ryzen 9   16  Nivida medium gamma  No Os/ Linux   \n",
       "...        ...     ...            ...  ...                  ...           ...   \n",
       "1644       MSI    17.3  intel core i9   64    Nvidia High gamma  No Os/ Linux   \n",
       "1101        HP    15.6  intel core i7   16  integrated graphics  No Os/ Linux   \n",
       "1136       MSI    17.3  intel core i7   32  Nivida medium gamma  No Os/ Linux   \n",
       "1300      Acer    16.0  intel core i7   16  integrated graphics  No Os/ Linux   \n",
       "862         HP    13.3  intel core i5   16  integrated graphics  No Os/ Linux   \n",
       "\n",
       "       SSD  \n",
       "558    512  \n",
       "892   1000  \n",
       "600   1000  \n",
       "2231  1000  \n",
       "2012   512  \n",
       "...    ...  \n",
       "1644  2000  \n",
       "1101   512  \n",
       "1136  1000  \n",
       "1300   256  \n",
       "862    256  \n",
       "\n",
       "[2293 rows x 7 columns]"
      ]
     },
     "execution_count": 79,
     "metadata": {},
     "output_type": "execute_result"
    }
   ],
   "source": [
    "from sklearn.compose import ColumnTransformer\n",
    "from sklearn.preprocessing import OneHotEncoder\n",
    "from sklearn.linear_model import LogisticRegression\n",
    "from sklearn.model_selection import train_test_split\n",
    "from sklearn.pipeline import Pipeline\n",
    "from sklearn.metrics import r2_score,mean_absolute_error\n",
    "from sklearn.metrics import accuracy_score,precision_score,recall_score,f1_score,confusion_matrix,ConfusionMatrixDisplay,roc_curve, RocCurveDisplay,auc\n",
    "\n",
    "encoded_data = data\n",
    "\n",
    "X_train = encoded_data.drop(columns='Price')\n",
    "Y_train = np.log(encoded_data['Price'])\n",
    "\n",
    "X_train, X_val,y_train,Y_val = train_test_split(X_train,Y_train,test_size=0.15,random_state=42)\n",
    "\n",
    "X_train"
   ]
  },
  {
   "cell_type": "markdown",
   "metadata": {},
   "source": [
    "<h1>Logistic Regresion</h1>"
   ]
  },
  {
   "cell_type": "code",
   "execution_count": 57,
   "metadata": {},
   "outputs": [
    {
     "name": "stdout",
     "output_type": "stream",
     "text": [
      "R2 score -4086280.2574874237\n",
      "MAE 1380.4370038650459\n"
     ]
    }
   ],
   "source": [
    "step1 = ColumnTransformer(transformers=[\n",
    "    ('col_tnf',OneHotEncoder(),[0,2,4,5])\n",
    "],remainder='passthrough')\n",
    "step2 = LogisticRegression(n_jobs=-1)\n",
    "\n",
    "pipe = Pipeline([\n",
    "    ('step1',step1),\n",
    "    ('step2',step2)\n",
    "])\n",
    "\n",
    "X_train = encoded_data.drop(columns='Price', axis=1)\n",
    "Y_train = encoded_data['Price']\n",
    "\n",
    "pipe.fit(X_train,Y_train)\n",
    "\n",
    "Y_pred = pipe.predict(X_val)\n",
    "\n",
    "print('R2 score',r2_score(Y_val,Y_pred))\n",
    "print('MAE',mean_absolute_error(Y_val,Y_pred))"
   ]
  },
  {
   "cell_type": "markdown",
   "metadata": {},
   "source": [
    "<h1>Random Forest</h1>"
   ]
  },
  {
   "cell_type": "code",
   "execution_count": 66,
   "metadata": {},
   "outputs": [
    {
     "name": "stdout",
     "output_type": "stream",
     "text": [
      "R2 score 0.8025449764674745\n",
      "MAE 0.20242587614473248\n"
     ]
    }
   ],
   "source": [
    "from sklearn.ensemble import RandomForestRegressor\n",
    "\n",
    "step2 = RandomForestRegressor(n_estimators=300,\n",
    "                              random_state=72,\n",
    "                              max_samples=0.5,\n",
    "                              max_features=0.75,\n",
    "                              max_depth=30)\n",
    "\n",
    "pipe = Pipeline([\n",
    "    ('step1',step1),\n",
    "    ('step2',step2)\n",
    "])\n",
    "\n",
    "pipe.fit(X_train,y_train)\n",
    "\n",
    "Y_pred = pipe.predict(X_val)\n",
    "\n",
    "print('R2 score',r2_score(Y_val,Y_pred))\n",
    "print('MAE',mean_absolute_error(Y_val,Y_pred))"
   ]
  },
  {
   "cell_type": "markdown",
   "metadata": {},
   "source": [
    "<h1>ExtraTreeRegressor</h1>"
   ]
  },
  {
   "cell_type": "code",
   "execution_count": 67,
   "metadata": {},
   "outputs": [
    {
     "name": "stdout",
     "output_type": "stream",
     "text": [
      "R2 score 0.753053602951339\n",
      "MAE 0.21737252284789502\n"
     ]
    }
   ],
   "source": [
    "from sklearn.tree import ExtraTreeRegressor\n",
    "\n",
    "step2 = ExtraTreeRegressor(max_depth=20,random_state=42)\n",
    "\n",
    "pipe = Pipeline([\n",
    "    ('step1',step1),\n",
    "    ('step2',step2)\n",
    "])\n",
    "\n",
    "pipe.fit(X_train,y_train)\n",
    "\n",
    "Y_pred = pipe.predict(X_val)\n",
    "\n",
    "print('R2 score',r2_score(Y_val,Y_pred))\n",
    "print('MAE',mean_absolute_error(Y_val,Y_pred))"
   ]
  },
  {
   "cell_type": "markdown",
   "metadata": {},
   "source": [
    "<h1>GradientBoostingRegressor</h1>"
   ]
  },
  {
   "cell_type": "code",
   "execution_count": 72,
   "metadata": {},
   "outputs": [
    {
     "name": "stdout",
     "output_type": "stream",
     "text": [
      "R2 score 0.8016121695768879\n",
      "MAE 0.21125651480222743\n"
     ]
    }
   ],
   "source": [
    "from sklearn.ensemble import GradientBoostingRegressor\n",
    "\n",
    "step2 = GradientBoostingRegressor(n_estimators=300)\n",
    "\n",
    "pipe = Pipeline([\n",
    "    ('step1',step1),\n",
    "    ('step2',step2)\n",
    "])\n",
    "\n",
    "pipe.fit(X_train,y_train)\n",
    "\n",
    "Y_pred = pipe.predict(X_val)\n",
    "\n",
    "print('R2 score',r2_score(Y_val,Y_pred))\n",
    "print('MAE',mean_absolute_error(Y_val,Y_pred))"
   ]
  },
  {
   "cell_type": "markdown",
   "metadata": {},
   "source": [
    "<h1>XGBRegressor</h1>"
   ]
  },
  {
   "cell_type": "code",
   "execution_count": 75,
   "metadata": {},
   "outputs": [
    {
     "name": "stdout",
     "output_type": "stream",
     "text": [
      "R2 score 0.7556368555892092\n",
      "MAE 0.21263569399609733\n"
     ]
    }
   ],
   "source": [
    "from xgboost import XGBRegressor\n",
    "\n",
    "step2 = XGBRegressor(n_estimators=75,max_depth=10,learning_rate=1)\n",
    "\n",
    "\n",
    "pipe = Pipeline([\n",
    "    ('step1',step1),\n",
    "    ('step2',step2)\n",
    "])\n",
    "\n",
    "pipe.fit(X_train,y_train)\n",
    "\n",
    "Y_pred = pipe.predict(X_val)\n",
    "\n",
    "print('R2 score',r2_score(Y_val,Y_pred))\n",
    "print('MAE',mean_absolute_error(Y_val,Y_pred))"
   ]
  },
  {
   "cell_type": "markdown",
   "metadata": {},
   "source": [
    "<h1>Voting Regressor</h1>\n"
   ]
  },
  {
   "cell_type": "code",
   "execution_count": 76,
   "metadata": {},
   "outputs": [
    {
     "name": "stdout",
     "output_type": "stream",
     "text": [
      "R2 score 0.808520571009981\n",
      "MAE 0.20049168922276547\n"
     ]
    }
   ],
   "source": [
    "from sklearn.ensemble import VotingRegressor,StackingRegressor\n",
    "\n",
    "rf = RandomForestRegressor(n_estimators=100,\n",
    "                              random_state=42,\n",
    "                              max_samples=0.5,\n",
    "                              max_features=0.75,\n",
    "                              max_depth=15)\n",
    "gbdt = GradientBoostingRegressor(n_estimators=500)\n",
    "xgb = XGBRegressor(n_estimators=45,learning_rate=0.5,max_depth=5)\n",
    "\n",
    "step2 = VotingRegressor([('rf', rf), ('gbdt', gbdt), ('xgb',xgb)],weights=[5,1,1])\n",
    "\n",
    "\n",
    "pipe = Pipeline([\n",
    "    ('step1',step1),\n",
    "    ('step2',step2)\n",
    "])\n",
    "\n",
    "pipe.fit(X_train,y_train)\n",
    "\n",
    "Y_pred = pipe.predict(X_val)\n",
    "\n",
    "print('R2 score',r2_score(Y_val,Y_pred))\n",
    "print('MAE',mean_absolute_error(Y_val,Y_pred))"
   ]
  },
  {
   "cell_type": "markdown",
   "metadata": {},
   "source": [
    "<h1>Stacking</h1>"
   ]
  },
  {
   "cell_type": "code",
   "execution_count": 77,
   "metadata": {},
   "outputs": [
    {
     "name": "stdout",
     "output_type": "stream",
     "text": [
      "R2 score 0.8074891026616011\n",
      "MAE 0.20840804196330925\n"
     ]
    }
   ],
   "source": [
    "from sklearn.linear_model import Ridge\n",
    "\n",
    "estimators = [\n",
    "    ('rf', RandomForestRegressor(n_estimators=350,random_state=42,max_samples=0.5,max_features=0.75,max_depth=15)),\n",
    "    ('gbdt',GradientBoostingRegressor(n_estimators=100,max_features=0.5)),\n",
    "    ('xgb', XGBRegressor(n_estimators=45,learning_rate=0.5,max_depth=5))\n",
    "]\n",
    "\n",
    "step2 = StackingRegressor(estimators=estimators, final_estimator=Ridge(alpha=100))\n",
    "\n",
    "\n",
    "pipe = Pipeline([\n",
    "    ('step1',step1),\n",
    "    ('step2',step2)\n",
    "])\n",
    "\n",
    "pipe.fit(X_train,y_train)\n",
    "\n",
    "Y_pred = pipe.predict(X_val)\n",
    "\n",
    "print('R2 score',r2_score(Y_val,Y_pred))\n",
    "print('MAE',mean_absolute_error(Y_val,Y_pred))"
   ]
  },
  {
   "cell_type": "code",
   "execution_count": 78,
   "metadata": {},
   "outputs": [],
   "source": [
    "import pickle\n",
    "\n",
    "pickle.dump(data,open('data_main.pkl','wb'))\n",
    "pickle.dump(pipe,open('pipe_main.pkl','wb'))"
   ]
  }
 ],
 "metadata": {
  "kernelspec": {
   "display_name": "Python 3",
   "language": "python",
   "name": "python3"
  },
  "language_info": {
   "codemirror_mode": {
    "name": "ipython",
    "version": 3
   },
   "file_extension": ".py",
   "mimetype": "text/x-python",
   "name": "python",
   "nbconvert_exporter": "python",
   "pygments_lexer": "ipython3",
   "version": "3.10.11"
  }
 },
 "nbformat": 4,
 "nbformat_minor": 2
}
