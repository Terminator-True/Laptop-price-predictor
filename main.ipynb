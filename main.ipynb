{
 "cells": [
  {
   "cell_type": "markdown",
   "metadata": {},
   "source": [
    "<h1>Laptop Price Predictor</h1>"
   ]
  },
  {
   "cell_type": "code",
   "execution_count": 133,
   "metadata": {},
   "outputs": [],
   "source": [
    "import numpy as np\n",
    "import pandas as pd\n",
    "import matplotlib.pyplot as plt"
   ]
  },
  {
   "cell_type": "code",
   "execution_count": 134,
   "metadata": {},
   "outputs": [
    {
     "data": {
      "text/html": [
       "<div>\n",
       "<style scoped>\n",
       "    .dataframe tbody tr th:only-of-type {\n",
       "        vertical-align: middle;\n",
       "    }\n",
       "\n",
       "    .dataframe tbody tr th {\n",
       "        vertical-align: top;\n",
       "    }\n",
       "\n",
       "    .dataframe thead th {\n",
       "        text-align: right;\n",
       "    }\n",
       "</style>\n",
       "<table border=\"1\" class=\"dataframe\">\n",
       "  <thead>\n",
       "    <tr style=\"text-align: right;\">\n",
       "      <th></th>\n",
       "      <th>Company</th>\n",
       "      <th>Inches</th>\n",
       "      <th>Cpu</th>\n",
       "      <th>Ram</th>\n",
       "      <th>Gpu</th>\n",
       "      <th>OpSys</th>\n",
       "      <th>SSD</th>\n",
       "      <th>Price</th>\n",
       "    </tr>\n",
       "  </thead>\n",
       "  <tbody>\n",
       "    <tr>\n",
       "      <th>0</th>\n",
       "      <td>Lenovo</td>\n",
       "      <td>15.6</td>\n",
       "      <td>intel core i5-12450h</td>\n",
       "      <td>16gb</td>\n",
       "      <td>integrated graphics</td>\n",
       "      <td>No Os/ Linux</td>\n",
       "      <td>512gb ssd</td>\n",
       "      <td>499.00</td>\n",
       "    </tr>\n",
       "    <tr>\n",
       "      <th>1</th>\n",
       "      <td>Alurin</td>\n",
       "      <td>14</td>\n",
       "      <td>intel celeron n4020</td>\n",
       "      <td>8gb</td>\n",
       "      <td>integrated graphics</td>\n",
       "      <td>No Os/ Linux</td>\n",
       "      <td>256gb ssd</td>\n",
       "      <td>229.90</td>\n",
       "    </tr>\n",
       "    <tr>\n",
       "      <th>2</th>\n",
       "      <td>Acer</td>\n",
       "      <td>15.6</td>\n",
       "      <td>intel core i5-13420h</td>\n",
       "      <td>16gb</td>\n",
       "      <td>rtx 3050</td>\n",
       "      <td>No Os/ Linux</td>\n",
       "      <td>1tb ssd</td>\n",
       "      <td>769.00</td>\n",
       "    </tr>\n",
       "    <tr>\n",
       "      <th>3</th>\n",
       "      <td>HP</td>\n",
       "      <td>15.6</td>\n",
       "      <td>intel core i5-1335u</td>\n",
       "      <td>16gb</td>\n",
       "      <td>integrated graphics</td>\n",
       "      <td>No Os/ Linux</td>\n",
       "      <td>512gb ssd</td>\n",
       "      <td>599.00</td>\n",
       "    </tr>\n",
       "    <tr>\n",
       "      <th>4</th>\n",
       "      <td>MSI</td>\n",
       "      <td>17.3</td>\n",
       "      <td>intel core i7-13700h</td>\n",
       "      <td>16gb</td>\n",
       "      <td>rtx 4070</td>\n",
       "      <td>No Os/ Linux</td>\n",
       "      <td>1tb ssd</td>\n",
       "      <td>1399.00</td>\n",
       "    </tr>\n",
       "    <tr>\n",
       "      <th>...</th>\n",
       "      <td>...</td>\n",
       "      <td>...</td>\n",
       "      <td>...</td>\n",
       "      <td>...</td>\n",
       "      <td>...</td>\n",
       "      <td>...</td>\n",
       "      <td>...</td>\n",
       "      <td>...</td>\n",
       "    </tr>\n",
       "    <tr>\n",
       "      <th>2706</th>\n",
       "      <td>Vant</td>\n",
       "      <td>14</td>\n",
       "      <td>intel core i7-1255u</td>\n",
       "      <td>40 gb</td>\n",
       "      <td>integrated graphics</td>\n",
       "      <td>No Os/ Linux</td>\n",
       "      <td>1tb ssd</td>\n",
       "      <td>1217.00</td>\n",
       "    </tr>\n",
       "    <tr>\n",
       "      <th>2707</th>\n",
       "      <td>Vant</td>\n",
       "      <td>14</td>\n",
       "      <td>intel core i5-10210u</td>\n",
       "      <td>16gb</td>\n",
       "      <td>integrated graphics</td>\n",
       "      <td>No Os/ Linux</td>\n",
       "      <td>500gb ssd</td>\n",
       "      <td>994.00</td>\n",
       "    </tr>\n",
       "    <tr>\n",
       "      <th>2708</th>\n",
       "      <td>Vant</td>\n",
       "      <td>14</td>\n",
       "      <td>intel core i7-10510u</td>\n",
       "      <td>16gb</td>\n",
       "      <td>integrated graphics</td>\n",
       "      <td>No Os/ Linux</td>\n",
       "      <td>500gb ssd</td>\n",
       "      <td>1123.00</td>\n",
       "    </tr>\n",
       "    <tr>\n",
       "      <th>2709</th>\n",
       "      <td>Vant</td>\n",
       "      <td>14</td>\n",
       "      <td>intel core i7-10510u</td>\n",
       "      <td>16gb</td>\n",
       "      <td>integrated graphics</td>\n",
       "      <td>No Os/ Linux</td>\n",
       "      <td>500gb ssd</td>\n",
       "      <td>1123.00</td>\n",
       "    </tr>\n",
       "    <tr>\n",
       "      <th>2710</th>\n",
       "      <td>Vanwin</td>\n",
       "      <td>15.6</td>\n",
       "      <td>intel celeron n5095</td>\n",
       "      <td>16gb</td>\n",
       "      <td>integrated graphics</td>\n",
       "      <td>No Os/ Linux</td>\n",
       "      <td>512 gb ssd</td>\n",
       "      <td>339.98</td>\n",
       "    </tr>\n",
       "  </tbody>\n",
       "</table>\n",
       "<p>2711 rows × 8 columns</p>\n",
       "</div>"
      ],
      "text/plain": [
       "     Company Inches                   Cpu    Ram                  Gpu  \\\n",
       "0     Lenovo   15.6  intel core i5-12450h   16gb  integrated graphics   \n",
       "1     Alurin     14   intel celeron n4020    8gb  integrated graphics   \n",
       "2       Acer   15.6  intel core i5-13420h   16gb             rtx 3050   \n",
       "3         HP   15.6   intel core i5-1335u   16gb  integrated graphics   \n",
       "4        MSI   17.3  intel core i7-13700h   16gb             rtx 4070   \n",
       "...      ...    ...                   ...    ...                  ...   \n",
       "2706    Vant     14   intel core i7-1255u  40 gb  integrated graphics   \n",
       "2707    Vant     14  intel core i5-10210u   16gb  integrated graphics   \n",
       "2708    Vant     14  intel core i7-10510u   16gb  integrated graphics   \n",
       "2709    Vant     14  intel core i7-10510u   16gb  integrated graphics   \n",
       "2710  Vanwin   15.6   intel celeron n5095   16gb  integrated graphics   \n",
       "\n",
       "             OpSys         SSD    Price  \n",
       "0     No Os/ Linux   512gb ssd   499.00  \n",
       "1     No Os/ Linux   256gb ssd   229.90  \n",
       "2     No Os/ Linux     1tb ssd   769.00  \n",
       "3     No Os/ Linux   512gb ssd   599.00  \n",
       "4     No Os/ Linux     1tb ssd  1399.00  \n",
       "...            ...         ...      ...  \n",
       "2706  No Os/ Linux     1tb ssd  1217.00  \n",
       "2707  No Os/ Linux   500gb ssd   994.00  \n",
       "2708  No Os/ Linux   500gb ssd  1123.00  \n",
       "2709  No Os/ Linux   500gb ssd  1123.00  \n",
       "2710  No Os/ Linux  512 gb ssd   339.98  \n",
       "\n",
       "[2711 rows x 8 columns]"
      ]
     },
     "execution_count": 134,
     "metadata": {},
     "output_type": "execute_result"
    }
   ],
   "source": [
    "data = pd.read_csv('laptop_data_actual.csv')\n",
    "data"
   ]
  },
  {
   "cell_type": "code",
   "execution_count": 135,
   "metadata": {},
   "outputs": [
    {
     "name": "stdout",
     "output_type": "stream",
     "text": [
      "<class 'pandas.core.frame.DataFrame'>\n",
      "RangeIndex: 2711 entries, 0 to 2710\n",
      "Data columns (total 8 columns):\n",
      " #   Column   Non-Null Count  Dtype  \n",
      "---  ------   --------------  -----  \n",
      " 0   Company  2711 non-null   object \n",
      " 1   Inches   2705 non-null   object \n",
      " 2   Cpu      2707 non-null   object \n",
      " 3   Ram      2711 non-null   object \n",
      " 4   Gpu      2711 non-null   object \n",
      " 5   OpSys    2711 non-null   object \n",
      " 6   SSD      2711 non-null   object \n",
      " 7   Price    2711 non-null   float64\n",
      "dtypes: float64(1), object(7)\n",
      "memory usage: 169.6+ KB\n"
     ]
    }
   ],
   "source": [
    "data.info()"
   ]
  },
  {
   "cell_type": "code",
   "execution_count": 136,
   "metadata": {},
   "outputs": [
    {
     "data": {
      "text/plain": [
       "Company    0\n",
       "Inches     0\n",
       "Cpu        0\n",
       "Ram        0\n",
       "Gpu        0\n",
       "OpSys      0\n",
       "SSD        0\n",
       "Price      0\n",
       "dtype: int64"
      ]
     },
     "execution_count": 136,
     "metadata": {},
     "output_type": "execute_result"
    }
   ],
   "source": [
    "data = data.drop(data[data['Inches'].isnull()].index)\n",
    "data = data.drop(data[data['Cpu'].isnull()].index)\n",
    "\n",
    "data.isnull().sum()"
   ]
  },
  {
   "cell_type": "code",
   "execution_count": 137,
   "metadata": {},
   "outputs": [
    {
     "data": {
      "text/plain": [
       "Cpu\n",
       "intel core i7-13700h    182\n",
       "intel core i5-1335u     144\n",
       "intel core i5-1235u     138\n",
       "intel core i7-1360p      99\n",
       "intel core i7-1255u      95\n",
       "                       ... \n",
       "max 14 n cleos            1\n",
       "amd ryzen 9 4900hs        1\n",
       "amd ryzen 9 5900hs        1\n",
       "intel core i5-1035g4      1\n",
       "intel core i7-6500u       1\n",
       "Name: count, Length: 208, dtype: int64"
      ]
     },
     "execution_count": 137,
     "metadata": {},
     "output_type": "execute_result"
    },
    {
     "data": {
      "image/png": "[encoded data removed]",
      "text/plain": [
       "<Figure size 640x480 with 1 Axes>"
      ]
     },
     "metadata": {},
     "output_type": "display_data"
    }
   ],
   "source": [
    "import seaborn as sns\n",
    "\n",
    "sns.histplot(data=data,x='Cpu')\n",
    "data['Cpu'].value_counts()"
   ]
  },
  {
   "cell_type": "code",
   "execution_count": 138,
   "metadata": {},
   "outputs": [
    {
     "data": {
      "text/plain": [
       "Cpu\n",
       "intel core i7            895\n",
       "intel core i5            832\n",
       "Other intel processor    184\n",
       "intel core i9            173\n",
       "amd ryzen 5              158\n",
       "amd ryzen 7              147\n",
       "intel core i3            114\n",
       "Mac Processor             99\n",
       "amd ryzen 9               42\n",
       "amd ryzen 3               37\n",
       "Other amd processor       20\n",
       "Name: count, dtype: int64"
      ]
     },
     "execution_count": 138,
     "metadata": {},
     "output_type": "execute_result"
    },
    {
     "data": {
      "image/png": "[encoded data removed]",
      "text/plain": [
       "<Figure size 640x480 with 1 Axes>"
      ]
     },
     "metadata": {},
     "output_type": "display_data"
    }
   ],
   "source": [
    "def cpu_type_define(text):\n",
    "    text = text.split(' ')\n",
    "    if text[0] == 'intel':\n",
    "        if 'i' in text[-1]:\n",
    "            return text[0]+' '+text[1]+' '+text[-1].split('-')[0] \n",
    "        \n",
    "        return 'Other intel processor'\n",
    "    elif text[0] == 'amd':\n",
    "        if text[1] == 'ryzen':\n",
    "            return text[0]+' '+text[1]+' '+text[2]\n",
    "        \n",
    "        return 'Other amd processor'\n",
    "    elif 'm' in text[0]:\n",
    "        return 'Mac Processor'\n",
    "    else:\n",
    "        return 'Other Processor'\n",
    "\n",
    "data['Cpu'] = data['Cpu'].apply(cpu_type_define)\n",
    "sns.histplot(data=data,x='Cpu')\n",
    "data['Cpu'].value_counts()"
   ]
  },
  {
   "cell_type": "code",
   "execution_count": 139,
   "metadata": {},
   "outputs": [
    {
     "data": {
      "text/plain": [
       "Gpu\n",
       "integrated graphics    1736\n",
       "rtx 4070                167\n",
       "rtx 4060                148\n",
       "rtx 3050                122\n",
       "rtx 3060                 68\n",
       "rtx 4050                 58\n",
       "rtx 4080                 47\n",
       "rtx 3070                 43\n",
       "rtx 4090                 35\n",
       "rtx 3070ti               33\n",
       "rtx 3050ti               26\n",
       "rtx 3080                 21\n",
       "gpu deca core            20\n",
       "Amd low Gamma            17\n",
       "rtx 3080ti               14\n",
       "rtx 2050                 12\n",
       "rtx a1000                 9\n",
       "gpu octa core             9\n",
       "rtx a3000                 8\n",
       "rtx3060                   6\n",
       "rtx 3050 ti               6\n",
       "gpu hepta core            6\n",
       "rtx 2070                  6\n",
       "rtx3050                   5\n",
       "rtx a2000                 5\n",
       "gpu 18 n cleos            5\n",
       "rtx3070                   5\n",
       "rtx 2000                  5\n",
       "rtx4070                   5\n",
       "gpu 10 n cleos            5\n",
       "rtx a500                  4\n",
       "Amd High gamma            4\n",
       "rtx 2080                  3\n",
       "rtx a5500                 3\n",
       "rtx 2060                  3\n",
       "rtx4050                   3\n",
       "rtx3050ti                 3\n",
       "rtx4060                   3\n",
       "rtx 2070 super            2\n",
       "rtx2070                   2\n",
       "rtx 3000                  2\n",
       "rtx 3500                  2\n",
       "rtx3070ti                 2\n",
       "rtx 3070 ti               2\n",
       "octa core gpu             1\n",
       "deca core gpu             1\n",
       "gpu 30 n cleos            1\n",
       "rtx 3080 ti               1\n",
       "rtx3080                   1\n",
       "rtx2060                   1\n",
       "gpu 14 n cleos            1\n",
       "rtx 2070q                 1\n",
       " rtx 4070                 1\n",
       "rtx 2080 super            1\n",
       "rtx3050 4gb               1\n",
       "Name: count, dtype: int64"
      ]
     },
     "execution_count": 139,
     "metadata": {},
     "output_type": "execute_result"
    },
    {
     "data": {
      "image/png": "[encoded data removed]",
      "text/plain": [
       "<Figure size 640x480 with 1 Axes>"
      ]
     },
     "metadata": {},
     "output_type": "display_data"
    }
   ],
   "source": [
    "import re\n",
    "def gpu_type_define(text):    \n",
    "    \n",
    "    if 'rtx' in text:\n",
    "        num = ''.join([char for char in re.findall(r'\\b\\d+\\b', text)])\n",
    "\n",
    "        if num == 4080 or num == 4090 or num == 3080:\n",
    "            return 'Nvidia High gamma'\n",
    "        elif num == 4070 or num == 3070 or num == 4060 or num == 2080:\n",
    "            return 'Nivida medium gamma'\n",
    "        elif num == 3050 or num == 3060 or num == 4050 or num == 2070:\n",
    "            return 'Nvidia low gamma'\n",
    "        \n",
    "    elif 'radeon' in text:\n",
    "        if 'rx' in text:\n",
    "            return 'Amd High gamma'\n",
    "        else:\n",
    "            return 'Amd low Gamma'\n",
    "    \n",
    "    return text\n",
    "       \n",
    "    \n",
    "\n",
    "data['Gpu'] = data['Gpu'].apply(gpu_type_define)\n",
    "sns.histplot(data=data,x='Gpu')\n",
    "data['Gpu'].value_counts()"
   ]
  }
 ],
 "metadata": {
  "kernelspec": {
   "display_name": "Python 3",
   "language": "python",
   "name": "python3"
  },
  "language_info": {
   "codemirror_mode": {
    "name": "ipython",
    "version": 3
   },
   "file_extension": ".py",
   "mimetype": "text/x-python",
   "name": "python",
   "nbconvert_exporter": "python",
   "pygments_lexer": "ipython3",
   "version": "3.10.11"
  }
 },
 "nbformat": 4,
 "nbformat_minor": 2
}
